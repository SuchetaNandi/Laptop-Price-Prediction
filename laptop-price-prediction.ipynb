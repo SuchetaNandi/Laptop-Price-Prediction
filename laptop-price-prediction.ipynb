{
 "cells": [
  {
   "cell_type": "code",
   "execution_count": 1,
   "id": "aeba1005",
   "metadata": {
    "_cell_guid": "b1076dfc-b9ad-4769-8c92-a6c4dae69d19",
    "_uuid": "8f2839f25d086af736a60e9eeb907d3b93b6e0e5",
    "execution": {
     "iopub.execute_input": "2025-02-08T17:38:45.608137Z",
     "iopub.status.busy": "2025-02-08T17:38:45.607643Z",
     "iopub.status.idle": "2025-02-08T17:38:46.645469Z",
     "shell.execute_reply": "2025-02-08T17:38:46.643684Z"
    },
    "papermill": {
     "duration": 1.047427,
     "end_time": "2025-02-08T17:38:46.647430",
     "exception": false,
     "start_time": "2025-02-08T17:38:45.600003",
     "status": "completed"
    },
    "tags": []
   },
   "outputs": [
    {
     "name": "stdout",
     "output_type": "stream",
     "text": [
      "/kaggle/input/laptop-price-prediction/laptop_price.ipynb\n",
      "/kaggle/input/laptop-price-prediction/laptop_data.csv\n"
     ]
    }
   ],
   "source": [
    "# This Python 3 environment comes with many helpful analytics libraries installed\n",
    "# It is defined by the kaggle/python Docker image: https://github.com/kaggle/docker-python\n",
    "# For example, here's several helpful packages to load\n",
    "\n",
    "import numpy as np # linear algebra\n",
    "import pandas as pd # data processing, CSV file I/O (e.g. pd.read_csv)\n",
    "\n",
    "# Input data files are available in the read-only \"../input/\" directory\n",
    "# For example, running this (by clicking run or pressing Shift+Enter) will list all files under the input directory\n",
    "\n",
    "import os\n",
    "for dirname, _, filenames in os.walk('/kaggle/input'):\n",
    "    for filename in filenames:\n",
    "        print(os.path.join(dirname, filename))\n",
    "\n",
    "# You can write up to 20GB to the current directory (/kaggle/working/) that gets preserved as output when you create a version using \"Save & Run All\" \n",
    "# You can also write temporary files to /kaggle/temp/, but they won't be saved outside of the current session"
   ]
  },
  {
   "cell_type": "code",
   "execution_count": 2,
   "id": "e139c22f",
   "metadata": {
    "execution": {
     "iopub.execute_input": "2025-02-08T17:38:46.660007Z",
     "iopub.status.busy": "2025-02-08T17:38:46.659518Z",
     "iopub.status.idle": "2025-02-08T17:38:48.986991Z",
     "shell.execute_reply": "2025-02-08T17:38:48.985583Z"
    },
    "papermill": {
     "duration": 2.336225,
     "end_time": "2025-02-08T17:38:48.989478",
     "exception": false,
     "start_time": "2025-02-08T17:38:46.653253",
     "status": "completed"
    },
    "tags": []
   },
   "outputs": [],
   "source": [
    "import seaborn as sns\n",
    "import matplotlib.pyplot as plt\n",
    "from sklearn.preprocessing import StandardScaler\n",
    "from sklearn.model_selection import train_test_split\n",
    "from sklearn.linear_model import LinearRegression\n",
    "from sklearn.metrics import r2_score, mean_absolute_error, mean_squared_error "
   ]
  },
  {
   "cell_type": "code",
   "execution_count": 3,
   "id": "9524eab5",
   "metadata": {
    "execution": {
     "iopub.execute_input": "2025-02-08T17:38:49.003117Z",
     "iopub.status.busy": "2025-02-08T17:38:49.002470Z",
     "iopub.status.idle": "2025-02-08T17:38:49.055623Z",
     "shell.execute_reply": "2025-02-08T17:38:49.054246Z"
    },
    "papermill": {
     "duration": 0.062374,
     "end_time": "2025-02-08T17:38:49.057803",
     "exception": false,
     "start_time": "2025-02-08T17:38:48.995429",
     "status": "completed"
    },
    "tags": []
   },
   "outputs": [
    {
     "data": {
      "text/html": [
       "<div>\n",
       "<style scoped>\n",
       "    .dataframe tbody tr th:only-of-type {\n",
       "        vertical-align: middle;\n",
       "    }\n",
       "\n",
       "    .dataframe tbody tr th {\n",
       "        vertical-align: top;\n",
       "    }\n",
       "\n",
       "    .dataframe thead th {\n",
       "        text-align: right;\n",
       "    }\n",
       "</style>\n",
       "<table border=\"1\" class=\"dataframe\">\n",
       "  <thead>\n",
       "    <tr style=\"text-align: right;\">\n",
       "      <th></th>\n",
       "      <th>Unnamed: 0</th>\n",
       "      <th>Company</th>\n",
       "      <th>TypeName</th>\n",
       "      <th>Inches</th>\n",
       "      <th>ScreenResolution</th>\n",
       "      <th>Cpu</th>\n",
       "      <th>Ram</th>\n",
       "      <th>Memory</th>\n",
       "      <th>Gpu</th>\n",
       "      <th>OpSys</th>\n",
       "      <th>Weight</th>\n",
       "      <th>Price</th>\n",
       "    </tr>\n",
       "  </thead>\n",
       "  <tbody>\n",
       "    <tr>\n",
       "      <th>0</th>\n",
       "      <td>0</td>\n",
       "      <td>Apple</td>\n",
       "      <td>Ultrabook</td>\n",
       "      <td>13.3</td>\n",
       "      <td>IPS Panel Retina Display 2560x1600</td>\n",
       "      <td>Intel Core i5 2.3GHz</td>\n",
       "      <td>8GB</td>\n",
       "      <td>128GB SSD</td>\n",
       "      <td>Intel Iris Plus Graphics 640</td>\n",
       "      <td>macOS</td>\n",
       "      <td>1.37kg</td>\n",
       "      <td>71378.6832</td>\n",
       "    </tr>\n",
       "    <tr>\n",
       "      <th>1</th>\n",
       "      <td>1</td>\n",
       "      <td>Apple</td>\n",
       "      <td>Ultrabook</td>\n",
       "      <td>13.3</td>\n",
       "      <td>1440x900</td>\n",
       "      <td>Intel Core i5 1.8GHz</td>\n",
       "      <td>8GB</td>\n",
       "      <td>128GB Flash Storage</td>\n",
       "      <td>Intel HD Graphics 6000</td>\n",
       "      <td>macOS</td>\n",
       "      <td>1.34kg</td>\n",
       "      <td>47895.5232</td>\n",
       "    </tr>\n",
       "    <tr>\n",
       "      <th>2</th>\n",
       "      <td>2</td>\n",
       "      <td>HP</td>\n",
       "      <td>Notebook</td>\n",
       "      <td>15.6</td>\n",
       "      <td>Full HD 1920x1080</td>\n",
       "      <td>Intel Core i5 7200U 2.5GHz</td>\n",
       "      <td>8GB</td>\n",
       "      <td>256GB SSD</td>\n",
       "      <td>Intel HD Graphics 620</td>\n",
       "      <td>No OS</td>\n",
       "      <td>1.86kg</td>\n",
       "      <td>30636.0000</td>\n",
       "    </tr>\n",
       "    <tr>\n",
       "      <th>3</th>\n",
       "      <td>3</td>\n",
       "      <td>Apple</td>\n",
       "      <td>Ultrabook</td>\n",
       "      <td>15.4</td>\n",
       "      <td>IPS Panel Retina Display 2880x1800</td>\n",
       "      <td>Intel Core i7 2.7GHz</td>\n",
       "      <td>16GB</td>\n",
       "      <td>512GB SSD</td>\n",
       "      <td>AMD Radeon Pro 455</td>\n",
       "      <td>macOS</td>\n",
       "      <td>1.83kg</td>\n",
       "      <td>135195.3360</td>\n",
       "    </tr>\n",
       "    <tr>\n",
       "      <th>4</th>\n",
       "      <td>4</td>\n",
       "      <td>Apple</td>\n",
       "      <td>Ultrabook</td>\n",
       "      <td>13.3</td>\n",
       "      <td>IPS Panel Retina Display 2560x1600</td>\n",
       "      <td>Intel Core i5 3.1GHz</td>\n",
       "      <td>8GB</td>\n",
       "      <td>256GB SSD</td>\n",
       "      <td>Intel Iris Plus Graphics 650</td>\n",
       "      <td>macOS</td>\n",
       "      <td>1.37kg</td>\n",
       "      <td>96095.8080</td>\n",
       "    </tr>\n",
       "  </tbody>\n",
       "</table>\n",
       "</div>"
      ],
      "text/plain": [
       "   Unnamed: 0 Company   TypeName  Inches                    ScreenResolution  \\\n",
       "0           0   Apple  Ultrabook    13.3  IPS Panel Retina Display 2560x1600   \n",
       "1           1   Apple  Ultrabook    13.3                            1440x900   \n",
       "2           2      HP   Notebook    15.6                   Full HD 1920x1080   \n",
       "3           3   Apple  Ultrabook    15.4  IPS Panel Retina Display 2880x1800   \n",
       "4           4   Apple  Ultrabook    13.3  IPS Panel Retina Display 2560x1600   \n",
       "\n",
       "                          Cpu   Ram               Memory  \\\n",
       "0        Intel Core i5 2.3GHz   8GB            128GB SSD   \n",
       "1        Intel Core i5 1.8GHz   8GB  128GB Flash Storage   \n",
       "2  Intel Core i5 7200U 2.5GHz   8GB            256GB SSD   \n",
       "3        Intel Core i7 2.7GHz  16GB            512GB SSD   \n",
       "4        Intel Core i5 3.1GHz   8GB            256GB SSD   \n",
       "\n",
       "                            Gpu  OpSys  Weight        Price  \n",
       "0  Intel Iris Plus Graphics 640  macOS  1.37kg   71378.6832  \n",
       "1        Intel HD Graphics 6000  macOS  1.34kg   47895.5232  \n",
       "2         Intel HD Graphics 620  No OS  1.86kg   30636.0000  \n",
       "3            AMD Radeon Pro 455  macOS  1.83kg  135195.3360  \n",
       "4  Intel Iris Plus Graphics 650  macOS  1.37kg   96095.8080  "
      ]
     },
     "execution_count": 3,
     "metadata": {},
     "output_type": "execute_result"
    }
   ],
   "source": [
    "data= pd.read_csv('/kaggle/input/laptop-price-prediction/laptop_data.csv')\n",
    "data.head()"
   ]
  },
  {
   "cell_type": "code",
   "execution_count": 4,
   "id": "490b99d8",
   "metadata": {
    "execution": {
     "iopub.execute_input": "2025-02-08T17:38:49.071206Z",
     "iopub.status.busy": "2025-02-08T17:38:49.070764Z",
     "iopub.status.idle": "2025-02-08T17:38:49.077502Z",
     "shell.execute_reply": "2025-02-08T17:38:49.076368Z"
    },
    "papermill": {
     "duration": 0.015403,
     "end_time": "2025-02-08T17:38:49.079207",
     "exception": false,
     "start_time": "2025-02-08T17:38:49.063804",
     "status": "completed"
    },
    "tags": []
   },
   "outputs": [
    {
     "data": {
      "text/plain": [
       "(1303, 12)"
      ]
     },
     "execution_count": 4,
     "metadata": {},
     "output_type": "execute_result"
    }
   ],
   "source": [
    "data.shape"
   ]
  },
  {
   "cell_type": "code",
   "execution_count": 5,
   "id": "45841266",
   "metadata": {
    "execution": {
     "iopub.execute_input": "2025-02-08T17:38:49.092592Z",
     "iopub.status.busy": "2025-02-08T17:38:49.092093Z",
     "iopub.status.idle": "2025-02-08T17:38:49.121020Z",
     "shell.execute_reply": "2025-02-08T17:38:49.119308Z"
    },
    "papermill": {
     "duration": 0.038509,
     "end_time": "2025-02-08T17:38:49.123636",
     "exception": false,
     "start_time": "2025-02-08T17:38:49.085127",
     "status": "completed"
    },
    "tags": []
   },
   "outputs": [
    {
     "name": "stdout",
     "output_type": "stream",
     "text": [
      "<class 'pandas.core.frame.DataFrame'>\n",
      "RangeIndex: 1303 entries, 0 to 1302\n",
      "Data columns (total 12 columns):\n",
      " #   Column            Non-Null Count  Dtype  \n",
      "---  ------            --------------  -----  \n",
      " 0   Unnamed: 0        1303 non-null   int64  \n",
      " 1   Company           1303 non-null   object \n",
      " 2   TypeName          1303 non-null   object \n",
      " 3   Inches            1303 non-null   float64\n",
      " 4   ScreenResolution  1303 non-null   object \n",
      " 5   Cpu               1303 non-null   object \n",
      " 6   Ram               1303 non-null   object \n",
      " 7   Memory            1303 non-null   object \n",
      " 8   Gpu               1303 non-null   object \n",
      " 9   OpSys             1303 non-null   object \n",
      " 10  Weight            1303 non-null   object \n",
      " 11  Price             1303 non-null   float64\n",
      "dtypes: float64(2), int64(1), object(9)\n",
      "memory usage: 122.3+ KB\n"
     ]
    }
   ],
   "source": [
    "data.info()"
   ]
  },
  {
   "cell_type": "code",
   "execution_count": 6,
   "id": "5d6e55fc",
   "metadata": {
    "execution": {
     "iopub.execute_input": "2025-02-08T17:38:49.137033Z",
     "iopub.status.busy": "2025-02-08T17:38:49.136677Z",
     "iopub.status.idle": "2025-02-08T17:38:49.153360Z",
     "shell.execute_reply": "2025-02-08T17:38:49.152300Z"
    },
    "papermill": {
     "duration": 0.025202,
     "end_time": "2025-02-08T17:38:49.155071",
     "exception": false,
     "start_time": "2025-02-08T17:38:49.129869",
     "status": "completed"
    },
    "tags": []
   },
   "outputs": [
    {
     "data": {
      "text/html": [
       "<div>\n",
       "<style scoped>\n",
       "    .dataframe tbody tr th:only-of-type {\n",
       "        vertical-align: middle;\n",
       "    }\n",
       "\n",
       "    .dataframe tbody tr th {\n",
       "        vertical-align: top;\n",
       "    }\n",
       "\n",
       "    .dataframe thead th {\n",
       "        text-align: right;\n",
       "    }\n",
       "</style>\n",
       "<table border=\"1\" class=\"dataframe\">\n",
       "  <thead>\n",
       "    <tr style=\"text-align: right;\">\n",
       "      <th></th>\n",
       "      <th>Company</th>\n",
       "      <th>TypeName</th>\n",
       "      <th>Inches</th>\n",
       "      <th>ScreenResolution</th>\n",
       "      <th>Cpu</th>\n",
       "      <th>Ram</th>\n",
       "      <th>Memory</th>\n",
       "      <th>Gpu</th>\n",
       "      <th>OpSys</th>\n",
       "      <th>Weight</th>\n",
       "      <th>Price</th>\n",
       "    </tr>\n",
       "    <tr>\n",
       "      <th>Index</th>\n",
       "      <th></th>\n",
       "      <th></th>\n",
       "      <th></th>\n",
       "      <th></th>\n",
       "      <th></th>\n",
       "      <th></th>\n",
       "      <th></th>\n",
       "      <th></th>\n",
       "      <th></th>\n",
       "      <th></th>\n",
       "      <th></th>\n",
       "    </tr>\n",
       "  </thead>\n",
       "  <tbody>\n",
       "    <tr>\n",
       "      <th>0</th>\n",
       "      <td>Apple</td>\n",
       "      <td>Ultrabook</td>\n",
       "      <td>13.3</td>\n",
       "      <td>IPS Panel Retina Display 2560x1600</td>\n",
       "      <td>Intel Core i5 2.3GHz</td>\n",
       "      <td>8GB</td>\n",
       "      <td>128GB SSD</td>\n",
       "      <td>Intel Iris Plus Graphics 640</td>\n",
       "      <td>macOS</td>\n",
       "      <td>1.37kg</td>\n",
       "      <td>71378.6832</td>\n",
       "    </tr>\n",
       "    <tr>\n",
       "      <th>1</th>\n",
       "      <td>Apple</td>\n",
       "      <td>Ultrabook</td>\n",
       "      <td>13.3</td>\n",
       "      <td>1440x900</td>\n",
       "      <td>Intel Core i5 1.8GHz</td>\n",
       "      <td>8GB</td>\n",
       "      <td>128GB Flash Storage</td>\n",
       "      <td>Intel HD Graphics 6000</td>\n",
       "      <td>macOS</td>\n",
       "      <td>1.34kg</td>\n",
       "      <td>47895.5232</td>\n",
       "    </tr>\n",
       "    <tr>\n",
       "      <th>2</th>\n",
       "      <td>HP</td>\n",
       "      <td>Notebook</td>\n",
       "      <td>15.6</td>\n",
       "      <td>Full HD 1920x1080</td>\n",
       "      <td>Intel Core i5 7200U 2.5GHz</td>\n",
       "      <td>8GB</td>\n",
       "      <td>256GB SSD</td>\n",
       "      <td>Intel HD Graphics 620</td>\n",
       "      <td>No OS</td>\n",
       "      <td>1.86kg</td>\n",
       "      <td>30636.0000</td>\n",
       "    </tr>\n",
       "    <tr>\n",
       "      <th>3</th>\n",
       "      <td>Apple</td>\n",
       "      <td>Ultrabook</td>\n",
       "      <td>15.4</td>\n",
       "      <td>IPS Panel Retina Display 2880x1800</td>\n",
       "      <td>Intel Core i7 2.7GHz</td>\n",
       "      <td>16GB</td>\n",
       "      <td>512GB SSD</td>\n",
       "      <td>AMD Radeon Pro 455</td>\n",
       "      <td>macOS</td>\n",
       "      <td>1.83kg</td>\n",
       "      <td>135195.3360</td>\n",
       "    </tr>\n",
       "    <tr>\n",
       "      <th>4</th>\n",
       "      <td>Apple</td>\n",
       "      <td>Ultrabook</td>\n",
       "      <td>13.3</td>\n",
       "      <td>IPS Panel Retina Display 2560x1600</td>\n",
       "      <td>Intel Core i5 3.1GHz</td>\n",
       "      <td>8GB</td>\n",
       "      <td>256GB SSD</td>\n",
       "      <td>Intel Iris Plus Graphics 650</td>\n",
       "      <td>macOS</td>\n",
       "      <td>1.37kg</td>\n",
       "      <td>96095.8080</td>\n",
       "    </tr>\n",
       "  </tbody>\n",
       "</table>\n",
       "</div>"
      ],
      "text/plain": [
       "      Company   TypeName  Inches                    ScreenResolution  \\\n",
       "Index                                                                  \n",
       "0       Apple  Ultrabook    13.3  IPS Panel Retina Display 2560x1600   \n",
       "1       Apple  Ultrabook    13.3                            1440x900   \n",
       "2          HP   Notebook    15.6                   Full HD 1920x1080   \n",
       "3       Apple  Ultrabook    15.4  IPS Panel Retina Display 2880x1800   \n",
       "4       Apple  Ultrabook    13.3  IPS Panel Retina Display 2560x1600   \n",
       "\n",
       "                              Cpu   Ram               Memory  \\\n",
       "Index                                                          \n",
       "0            Intel Core i5 2.3GHz   8GB            128GB SSD   \n",
       "1            Intel Core i5 1.8GHz   8GB  128GB Flash Storage   \n",
       "2      Intel Core i5 7200U 2.5GHz   8GB            256GB SSD   \n",
       "3            Intel Core i7 2.7GHz  16GB            512GB SSD   \n",
       "4            Intel Core i5 3.1GHz   8GB            256GB SSD   \n",
       "\n",
       "                                Gpu  OpSys  Weight        Price  \n",
       "Index                                                            \n",
       "0      Intel Iris Plus Graphics 640  macOS  1.37kg   71378.6832  \n",
       "1            Intel HD Graphics 6000  macOS  1.34kg   47895.5232  \n",
       "2             Intel HD Graphics 620  No OS  1.86kg   30636.0000  \n",
       "3                AMD Radeon Pro 455  macOS  1.83kg  135195.3360  \n",
       "4      Intel Iris Plus Graphics 650  macOS  1.37kg   96095.8080  "
      ]
     },
     "execution_count": 6,
     "metadata": {},
     "output_type": "execute_result"
    }
   ],
   "source": [
    "data.rename(columns={'Unnamed: 0':'Index'}, inplace= True)\n",
    "data.set_index('Index', drop= True, verify_integrity=True, inplace= True)\n",
    "data.head()"
   ]
  },
  {
   "cell_type": "code",
   "execution_count": 7,
   "id": "1d6ba605",
   "metadata": {
    "execution": {
     "iopub.execute_input": "2025-02-08T17:38:49.169073Z",
     "iopub.status.busy": "2025-02-08T17:38:49.168705Z",
     "iopub.status.idle": "2025-02-08T17:38:49.175636Z",
     "shell.execute_reply": "2025-02-08T17:38:49.174396Z"
    },
    "papermill": {
     "duration": 0.016191,
     "end_time": "2025-02-08T17:38:49.177549",
     "exception": false,
     "start_time": "2025-02-08T17:38:49.161358",
     "status": "completed"
    },
    "tags": []
   },
   "outputs": [],
   "source": [
    "data['Ram']= data['Ram'].str.replace('GB', '')\n",
    "data['Ram']= data['Ram'].astype(int)"
   ]
  },
  {
   "cell_type": "code",
   "execution_count": 8,
   "id": "82f2fdfd",
   "metadata": {
    "execution": {
     "iopub.execute_input": "2025-02-08T17:38:49.190911Z",
     "iopub.status.busy": "2025-02-08T17:38:49.190561Z",
     "iopub.status.idle": "2025-02-08T17:38:49.199169Z",
     "shell.execute_reply": "2025-02-08T17:38:49.198029Z"
    },
    "papermill": {
     "duration": 0.017572,
     "end_time": "2025-02-08T17:38:49.201361",
     "exception": false,
     "start_time": "2025-02-08T17:38:49.183789",
     "status": "completed"
    },
    "tags": []
   },
   "outputs": [],
   "source": [
    "data['Memory']= data['Memory'].replace('\\.0', '', regex= True)\n",
    "mem= data['Memory'].str.split('+', n=1, expand= True)"
   ]
  },
  {
   "cell_type": "code",
   "execution_count": 9,
   "id": "feb116ee",
   "metadata": {
    "execution": {
     "iopub.execute_input": "2025-02-08T17:38:49.215708Z",
     "iopub.status.busy": "2025-02-08T17:38:49.215329Z",
     "iopub.status.idle": "2025-02-08T17:38:49.232815Z",
     "shell.execute_reply": "2025-02-08T17:38:49.231706Z"
    },
    "papermill": {
     "duration": 0.026775,
     "end_time": "2025-02-08T17:38:49.234690",
     "exception": false,
     "start_time": "2025-02-08T17:38:49.207915",
     "status": "completed"
    },
    "tags": []
   },
   "outputs": [],
   "source": [
    "data['mem_1']= mem[0]\n",
    "data['SSD']= data['mem_1'].apply(lambda x: 1 if 'SSD' in x else 0)\n",
    "data['HDD']= data['mem_1'].apply(lambda x: 1 if 'HDD' in x else 0)\n",
    "data['Flash Storage']= data['mem_1'].apply(lambda x: 1 if 'Flash Storage' in x else 0)\n",
    "data['Hybrid']= data['mem_1'].apply(lambda x: 1 if 'Hybrid' in x else 0)\n",
    "\n",
    "data['mem_2']= mem[1].str.strip().fillna('0')\n",
    "data['SSD']= data['mem_2'].apply(lambda x: 1 if 'SSD' in x else 0)\n",
    "data['HDD']= data['mem_2'].apply(lambda x: 1 if 'HDD' in x else 0)\n",
    "data['Hybrid']= data['mem_2'].apply(lambda x: 1 if 'Hybrid' in x else 0)"
   ]
  },
  {
   "cell_type": "code",
   "execution_count": 10,
   "id": "c2492221",
   "metadata": {
    "execution": {
     "iopub.execute_input": "2025-02-08T17:38:49.248827Z",
     "iopub.status.busy": "2025-02-08T17:38:49.248411Z",
     "iopub.status.idle": "2025-02-08T17:38:49.262652Z",
     "shell.execute_reply": "2025-02-08T17:38:49.261430Z"
    },
    "papermill": {
     "duration": 0.023308,
     "end_time": "2025-02-08T17:38:49.264609",
     "exception": false,
     "start_time": "2025-02-08T17:38:49.241301",
     "status": "completed"
    },
    "tags": []
   },
   "outputs": [],
   "source": [
    "data['mem_1']= data['mem_1'].str.split(' ', expand= True)[0]\n",
    "data['mem_1']= data['mem_1'].str.replace('GB', '')\n",
    "data['mem_1']= data['mem_1'].str.replace('TB', '000')\n",
    "\n",
    "data['mem_2']= data['mem_2'].str.split(' ', expand= True)[0]\n",
    "data['mem_2']= data['mem_2'].str.replace('GB', '')\n",
    "data['mem_2']= data['mem_2'].str.replace('TB', '000')"
   ]
  },
  {
   "cell_type": "code",
   "execution_count": 11,
   "id": "2dd1860d",
   "metadata": {
    "execution": {
     "iopub.execute_input": "2025-02-08T17:38:49.279124Z",
     "iopub.status.busy": "2025-02-08T17:38:49.278706Z",
     "iopub.status.idle": "2025-02-08T17:38:49.290209Z",
     "shell.execute_reply": "2025-02-08T17:38:49.288833Z"
    },
    "papermill": {
     "duration": 0.021003,
     "end_time": "2025-02-08T17:38:49.292351",
     "exception": false,
     "start_time": "2025-02-08T17:38:49.271348",
     "status": "completed"
    },
    "tags": []
   },
   "outputs": [],
   "source": [
    "data['mem_1']= data['mem_1'].astype(int)\n",
    "data['mem_2']= data['mem_2'].astype(int)\n",
    "data['Memory']= (data['mem_1']+ data['mem_2'])\n",
    "data= data.drop(columns= ['mem_1', 'mem_2'], axis=1)"
   ]
  },
  {
   "cell_type": "code",
   "execution_count": 12,
   "id": "295418e9",
   "metadata": {
    "execution": {
     "iopub.execute_input": "2025-02-08T17:38:49.306612Z",
     "iopub.status.busy": "2025-02-08T17:38:49.306217Z",
     "iopub.status.idle": "2025-02-08T17:38:49.313648Z",
     "shell.execute_reply": "2025-02-08T17:38:49.312301Z"
    },
    "papermill": {
     "duration": 0.016939,
     "end_time": "2025-02-08T17:38:49.315716",
     "exception": false,
     "start_time": "2025-02-08T17:38:49.298777",
     "status": "completed"
    },
    "tags": []
   },
   "outputs": [],
   "source": [
    "data['Weight']= data['Weight'].str.replace('kg','')\n",
    "data['Weight']= pd.to_numeric(data['Weight'])"
   ]
  },
  {
   "cell_type": "code",
   "execution_count": 13,
   "id": "ccfed12e",
   "metadata": {
    "execution": {
     "iopub.execute_input": "2025-02-08T17:38:49.329545Z",
     "iopub.status.busy": "2025-02-08T17:38:49.329127Z",
     "iopub.status.idle": "2025-02-08T17:38:49.346311Z",
     "shell.execute_reply": "2025-02-08T17:38:49.344778Z"
    },
    "papermill": {
     "duration": 0.026548,
     "end_time": "2025-02-08T17:38:49.348561",
     "exception": false,
     "start_time": "2025-02-08T17:38:49.322013",
     "status": "completed"
    },
    "tags": []
   },
   "outputs": [],
   "source": [
    "screen= data['ScreenResolution'].str.split('x', expand= True)\n",
    "data['ScreenHeight']= screen[1]\n",
    "data['ScreenWidth']= screen[0].str.replace('\\D+', '', regex=True)\n",
    "\n",
    "data['ScreenHeight']= pd.to_numeric(data['ScreenHeight'])\n",
    "data['ScreenWidth']= pd.to_numeric(data['ScreenWidth'])\n",
    "\n",
    "data['PPI']= (((data['ScreenHeight']**2) + (data['ScreenWidth']**2)) ** 0.5)/ data['Inches']\n",
    "data['ScreenResolution']= (data['ScreenHeight'] * data['ScreenWidth'])"
   ]
  },
  {
   "cell_type": "code",
   "execution_count": 14,
   "id": "14aed88e",
   "metadata": {
    "execution": {
     "iopub.execute_input": "2025-02-08T17:38:49.363171Z",
     "iopub.status.busy": "2025-02-08T17:38:49.362745Z",
     "iopub.status.idle": "2025-02-08T17:38:51.285340Z",
     "shell.execute_reply": "2025-02-08T17:38:51.283781Z"
    },
    "papermill": {
     "duration": 1.932574,
     "end_time": "2025-02-08T17:38:51.287630",
     "exception": false,
     "start_time": "2025-02-08T17:38:49.355056",
     "status": "completed"
    },
    "tags": []
   },
   "outputs": [
    {
     "data": {
      "text/plain": [
       "Text(0.5, 1.0, 'Company v/s Price')"
      ]
     },
     "execution_count": 14,
     "metadata": {},
     "output_type": "execute_result"
    },
    {
     "data": {
      "image/png": "[encoded data removed]",
      "text/plain": [
       "<Figure size 1800x2500 with 3 Axes>"
      ]
     },
     "metadata": {},
     "output_type": "display_data"
    }
   ],
   "source": [
    "fig, ax= plt.subplots(3, 1, figsize= (18, 25))\n",
    "sns.barplot(data= data, x= 'OpSys', y='Price', ax= ax[0])\n",
    "ax[0].set_title('OS v/s Price')\n",
    "sns.barplot(data= data, x= 'TypeName', y='Price', ax= ax[1])\n",
    "ax[1].set_title('TypeName v/s Price')\n",
    "sns.barplot(data= data, x= 'Company', y='Price', ax= ax[2])\n",
    "ax[2].set_title('Company v/s Price')"
   ]
  },
  {
   "cell_type": "code",
   "execution_count": 15,
   "id": "7c6fe1d8",
   "metadata": {
    "execution": {
     "iopub.execute_input": "2025-02-08T17:38:51.305052Z",
     "iopub.status.busy": "2025-02-08T17:38:51.304591Z",
     "iopub.status.idle": "2025-02-08T17:38:52.127164Z",
     "shell.execute_reply": "2025-02-08T17:38:52.125743Z"
    },
    "papermill": {
     "duration": 0.834459,
     "end_time": "2025-02-08T17:38:52.129951",
     "exception": false,
     "start_time": "2025-02-08T17:38:51.295492",
     "status": "completed"
    },
    "tags": []
   },
   "outputs": [
    {
     "data": {
      "text/plain": [
       "<Axes: >"
      ]
     },
     "execution_count": 15,
     "metadata": {},
     "output_type": "execute_result"
    },
    {
     "data": {
      "image/png": "[encoded data removed]",
      "text/plain": [
       "<Figure size 1500x1500 with 2 Axes>"
      ]
     },
     "metadata": {},
     "output_type": "display_data"
    }
   ],
   "source": [
    "num_data= data.select_dtypes(include=['number'])\n",
    "correlation= num_data.corr()\n",
    "\n",
    "fig= plt.figure(figsize=(15, 15))\n",
    "sns.heatmap(correlation, cbar= True, square= True, annot= True, fmt= '.1f',  annot_kws={'size':8}, cmap= 'Blues')"
   ]
  },
  {
   "cell_type": "code",
   "execution_count": 16,
   "id": "3b985912",
   "metadata": {
    "execution": {
     "iopub.execute_input": "2025-02-08T17:38:52.152620Z",
     "iopub.status.busy": "2025-02-08T17:38:52.152263Z",
     "iopub.status.idle": "2025-02-08T17:38:52.355169Z",
     "shell.execute_reply": "2025-02-08T17:38:52.353823Z"
    },
    "papermill": {
     "duration": 0.21625,
     "end_time": "2025-02-08T17:38:52.357075",
     "exception": false,
     "start_time": "2025-02-08T17:38:52.140825",
     "status": "completed"
    },
    "tags": []
   },
   "outputs": [
    {
     "data": {
      "text/html": [
       "<div>\n",
       "<style scoped>\n",
       "    .dataframe tbody tr th:only-of-type {\n",
       "        vertical-align: middle;\n",
       "    }\n",
       "\n",
       "    .dataframe tbody tr th {\n",
       "        vertical-align: top;\n",
       "    }\n",
       "\n",
       "    .dataframe thead th {\n",
       "        text-align: right;\n",
       "    }\n",
       "</style>\n",
       "<table border=\"1\" class=\"dataframe\">\n",
       "  <thead>\n",
       "    <tr style=\"text-align: right;\">\n",
       "      <th></th>\n",
       "      <th>Features</th>\n",
       "      <th>VIF</th>\n",
       "    </tr>\n",
       "  </thead>\n",
       "  <tbody>\n",
       "    <tr>\n",
       "      <th>0</th>\n",
       "      <td>Inches</td>\n",
       "      <td>254.345237</td>\n",
       "    </tr>\n",
       "    <tr>\n",
       "      <th>1</th>\n",
       "      <td>ScreenResolution</td>\n",
       "      <td>8484.952228</td>\n",
       "    </tr>\n",
       "    <tr>\n",
       "      <th>2</th>\n",
       "      <td>Ram</td>\n",
       "      <td>6.383038</td>\n",
       "    </tr>\n",
       "    <tr>\n",
       "      <th>3</th>\n",
       "      <td>Memory</td>\n",
       "      <td>5.703461</td>\n",
       "    </tr>\n",
       "    <tr>\n",
       "      <th>4</th>\n",
       "      <td>Weight</td>\n",
       "      <td>37.968788</td>\n",
       "    </tr>\n",
       "    <tr>\n",
       "      <th>5</th>\n",
       "      <td>SSD</td>\n",
       "      <td>1.016713</td>\n",
       "    </tr>\n",
       "    <tr>\n",
       "      <th>6</th>\n",
       "      <td>HDD</td>\n",
       "      <td>2.332399</td>\n",
       "    </tr>\n",
       "    <tr>\n",
       "      <th>7</th>\n",
       "      <td>Flash Storage</td>\n",
       "      <td>1.164871</td>\n",
       "    </tr>\n",
       "    <tr>\n",
       "      <th>8</th>\n",
       "      <td>Hybrid</td>\n",
       "      <td>1.066707</td>\n",
       "    </tr>\n",
       "    <tr>\n",
       "      <th>9</th>\n",
       "      <td>ScreenHeight</td>\n",
       "      <td>38.069937</td>\n",
       "    </tr>\n",
       "    <tr>\n",
       "      <th>10</th>\n",
       "      <td>ScreenWidth</td>\n",
       "      <td>9648.937693</td>\n",
       "    </tr>\n",
       "    <tr>\n",
       "      <th>11</th>\n",
       "      <td>PPI</td>\n",
       "      <td>118.322768</td>\n",
       "    </tr>\n",
       "  </tbody>\n",
       "</table>\n",
       "</div>"
      ],
      "text/plain": [
       "            Features          VIF\n",
       "0             Inches   254.345237\n",
       "1   ScreenResolution  8484.952228\n",
       "2                Ram     6.383038\n",
       "3             Memory     5.703461\n",
       "4             Weight    37.968788\n",
       "5                SSD     1.016713\n",
       "6                HDD     2.332399\n",
       "7      Flash Storage     1.164871\n",
       "8             Hybrid     1.066707\n",
       "9       ScreenHeight    38.069937\n",
       "10       ScreenWidth  9648.937693\n",
       "11               PPI   118.322768"
      ]
     },
     "execution_count": 16,
     "metadata": {},
     "output_type": "execute_result"
    }
   ],
   "source": [
    "from statsmodels.stats.outliers_influence import variance_inflation_factor\n",
    "\n",
    "x= num_data.drop(columns='Price')\n",
    "\n",
    "vif= pd.DataFrame()\n",
    "vif['Features']= x.columns\n",
    "vif['VIF']= [variance_inflation_factor(x.values, i) for i in range(x.shape[1])]\n",
    "vif"
   ]
  },
  {
   "cell_type": "code",
   "execution_count": 17,
   "id": "f5c97fcc",
   "metadata": {
    "execution": {
     "iopub.execute_input": "2025-02-08T17:38:52.380552Z",
     "iopub.status.busy": "2025-02-08T17:38:52.380086Z",
     "iopub.status.idle": "2025-02-08T17:38:52.400337Z",
     "shell.execute_reply": "2025-02-08T17:38:52.399252Z"
    },
    "papermill": {
     "duration": 0.034487,
     "end_time": "2025-02-08T17:38:52.402391",
     "exception": false,
     "start_time": "2025-02-08T17:38:52.367904",
     "status": "completed"
    },
    "tags": []
   },
   "outputs": [
    {
     "data": {
      "text/html": [
       "<div>\n",
       "<style scoped>\n",
       "    .dataframe tbody tr th:only-of-type {\n",
       "        vertical-align: middle;\n",
       "    }\n",
       "\n",
       "    .dataframe tbody tr th {\n",
       "        vertical-align: top;\n",
       "    }\n",
       "\n",
       "    .dataframe thead th {\n",
       "        text-align: right;\n",
       "    }\n",
       "</style>\n",
       "<table border=\"1\" class=\"dataframe\">\n",
       "  <thead>\n",
       "    <tr style=\"text-align: right;\">\n",
       "      <th></th>\n",
       "      <th>Company</th>\n",
       "      <th>TypeName</th>\n",
       "      <th>Inches</th>\n",
       "      <th>ScreenResolution</th>\n",
       "      <th>Cpu</th>\n",
       "      <th>Ram</th>\n",
       "      <th>Memory</th>\n",
       "      <th>Gpu</th>\n",
       "      <th>OpSys</th>\n",
       "      <th>Weight</th>\n",
       "      <th>Price</th>\n",
       "      <th>SSD</th>\n",
       "      <th>HDD</th>\n",
       "      <th>Flash Storage</th>\n",
       "      <th>Hybrid</th>\n",
       "      <th>ScreenHeight</th>\n",
       "      <th>ScreenWidth</th>\n",
       "      <th>PPI</th>\n",
       "    </tr>\n",
       "    <tr>\n",
       "      <th>Index</th>\n",
       "      <th></th>\n",
       "      <th></th>\n",
       "      <th></th>\n",
       "      <th></th>\n",
       "      <th></th>\n",
       "      <th></th>\n",
       "      <th></th>\n",
       "      <th></th>\n",
       "      <th></th>\n",
       "      <th></th>\n",
       "      <th></th>\n",
       "      <th></th>\n",
       "      <th></th>\n",
       "      <th></th>\n",
       "      <th></th>\n",
       "      <th></th>\n",
       "      <th></th>\n",
       "      <th></th>\n",
       "    </tr>\n",
       "  </thead>\n",
       "  <tbody>\n",
       "    <tr>\n",
       "      <th>0</th>\n",
       "      <td>Apple</td>\n",
       "      <td>Ultrabook</td>\n",
       "      <td>13.3</td>\n",
       "      <td>4096000</td>\n",
       "      <td>Intel Core i5 2.3GHz</td>\n",
       "      <td>8</td>\n",
       "      <td>128</td>\n",
       "      <td>Intel Iris Plus Graphics 640</td>\n",
       "      <td>macOS</td>\n",
       "      <td>1.37</td>\n",
       "      <td>71378.6832</td>\n",
       "      <td>0</td>\n",
       "      <td>0</td>\n",
       "      <td>0</td>\n",
       "      <td>0</td>\n",
       "      <td>1600</td>\n",
       "      <td>2560</td>\n",
       "      <td>226.983005</td>\n",
       "    </tr>\n",
       "    <tr>\n",
       "      <th>1</th>\n",
       "      <td>Apple</td>\n",
       "      <td>Ultrabook</td>\n",
       "      <td>13.3</td>\n",
       "      <td>1296000</td>\n",
       "      <td>Intel Core i5 1.8GHz</td>\n",
       "      <td>8</td>\n",
       "      <td>128</td>\n",
       "      <td>Intel HD Graphics 6000</td>\n",
       "      <td>macOS</td>\n",
       "      <td>1.34</td>\n",
       "      <td>47895.5232</td>\n",
       "      <td>0</td>\n",
       "      <td>0</td>\n",
       "      <td>1</td>\n",
       "      <td>0</td>\n",
       "      <td>900</td>\n",
       "      <td>1440</td>\n",
       "      <td>127.677940</td>\n",
       "    </tr>\n",
       "    <tr>\n",
       "      <th>2</th>\n",
       "      <td>HP</td>\n",
       "      <td>Notebook</td>\n",
       "      <td>15.6</td>\n",
       "      <td>2073600</td>\n",
       "      <td>Intel Core i5 7200U 2.5GHz</td>\n",
       "      <td>8</td>\n",
       "      <td>256</td>\n",
       "      <td>Intel HD Graphics 620</td>\n",
       "      <td>No OS</td>\n",
       "      <td>1.86</td>\n",
       "      <td>30636.0000</td>\n",
       "      <td>0</td>\n",
       "      <td>0</td>\n",
       "      <td>0</td>\n",
       "      <td>0</td>\n",
       "      <td>1080</td>\n",
       "      <td>1920</td>\n",
       "      <td>141.211998</td>\n",
       "    </tr>\n",
       "    <tr>\n",
       "      <th>3</th>\n",
       "      <td>Apple</td>\n",
       "      <td>Ultrabook</td>\n",
       "      <td>15.4</td>\n",
       "      <td>5184000</td>\n",
       "      <td>Intel Core i7 2.7GHz</td>\n",
       "      <td>16</td>\n",
       "      <td>512</td>\n",
       "      <td>AMD Radeon Pro 455</td>\n",
       "      <td>macOS</td>\n",
       "      <td>1.83</td>\n",
       "      <td>135195.3360</td>\n",
       "      <td>0</td>\n",
       "      <td>0</td>\n",
       "      <td>0</td>\n",
       "      <td>0</td>\n",
       "      <td>1800</td>\n",
       "      <td>2880</td>\n",
       "      <td>220.534624</td>\n",
       "    </tr>\n",
       "    <tr>\n",
       "      <th>4</th>\n",
       "      <td>Apple</td>\n",
       "      <td>Ultrabook</td>\n",
       "      <td>13.3</td>\n",
       "      <td>4096000</td>\n",
       "      <td>Intel Core i5 3.1GHz</td>\n",
       "      <td>8</td>\n",
       "      <td>256</td>\n",
       "      <td>Intel Iris Plus Graphics 650</td>\n",
       "      <td>macOS</td>\n",
       "      <td>1.37</td>\n",
       "      <td>96095.8080</td>\n",
       "      <td>0</td>\n",
       "      <td>0</td>\n",
       "      <td>0</td>\n",
       "      <td>0</td>\n",
       "      <td>1600</td>\n",
       "      <td>2560</td>\n",
       "      <td>226.983005</td>\n",
       "    </tr>\n",
       "  </tbody>\n",
       "</table>\n",
       "</div>"
      ],
      "text/plain": [
       "      Company   TypeName  Inches  ScreenResolution  \\\n",
       "Index                                                \n",
       "0       Apple  Ultrabook    13.3           4096000   \n",
       "1       Apple  Ultrabook    13.3           1296000   \n",
       "2          HP   Notebook    15.6           2073600   \n",
       "3       Apple  Ultrabook    15.4           5184000   \n",
       "4       Apple  Ultrabook    13.3           4096000   \n",
       "\n",
       "                              Cpu  Ram  Memory                           Gpu  \\\n",
       "Index                                                                          \n",
       "0            Intel Core i5 2.3GHz    8     128  Intel Iris Plus Graphics 640   \n",
       "1            Intel Core i5 1.8GHz    8     128        Intel HD Graphics 6000   \n",
       "2      Intel Core i5 7200U 2.5GHz    8     256         Intel HD Graphics 620   \n",
       "3            Intel Core i7 2.7GHz   16     512            AMD Radeon Pro 455   \n",
       "4            Intel Core i5 3.1GHz    8     256  Intel Iris Plus Graphics 650   \n",
       "\n",
       "       OpSys  Weight        Price  SSD  HDD  Flash Storage  Hybrid  \\\n",
       "Index                                                                \n",
       "0      macOS    1.37   71378.6832    0    0              0       0   \n",
       "1      macOS    1.34   47895.5232    0    0              1       0   \n",
       "2      No OS    1.86   30636.0000    0    0              0       0   \n",
       "3      macOS    1.83  135195.3360    0    0              0       0   \n",
       "4      macOS    1.37   96095.8080    0    0              0       0   \n",
       "\n",
       "       ScreenHeight  ScreenWidth         PPI  \n",
       "Index                                         \n",
       "0              1600         2560  226.983005  \n",
       "1               900         1440  127.677940  \n",
       "2              1080         1920  141.211998  \n",
       "3              1800         2880  220.534624  \n",
       "4              1600         2560  226.983005  "
      ]
     },
     "execution_count": 17,
     "metadata": {},
     "output_type": "execute_result"
    }
   ],
   "source": [
    "data.head()"
   ]
  },
  {
   "cell_type": "code",
   "execution_count": 18,
   "id": "4e1a0306",
   "metadata": {
    "execution": {
     "iopub.execute_input": "2025-02-08T17:38:52.427053Z",
     "iopub.status.busy": "2025-02-08T17:38:52.426683Z",
     "iopub.status.idle": "2025-02-08T17:38:52.451451Z",
     "shell.execute_reply": "2025-02-08T17:38:52.450276Z"
    },
    "papermill": {
     "duration": 0.039107,
     "end_time": "2025-02-08T17:38:52.453445",
     "exception": false,
     "start_time": "2025-02-08T17:38:52.414338",
     "status": "completed"
    },
    "tags": []
   },
   "outputs": [
    {
     "data": {
      "text/html": [
       "<div>\n",
       "<style scoped>\n",
       "    .dataframe tbody tr th:only-of-type {\n",
       "        vertical-align: middle;\n",
       "    }\n",
       "\n",
       "    .dataframe tbody tr th {\n",
       "        vertical-align: top;\n",
       "    }\n",
       "\n",
       "    .dataframe thead th {\n",
       "        text-align: right;\n",
       "    }\n",
       "</style>\n",
       "<table border=\"1\" class=\"dataframe\">\n",
       "  <thead>\n",
       "    <tr style=\"text-align: right;\">\n",
       "      <th></th>\n",
       "      <th>Company</th>\n",
       "      <th>Inches</th>\n",
       "      <th>ScreenResolution</th>\n",
       "      <th>Cpu</th>\n",
       "      <th>Ram</th>\n",
       "      <th>Memory</th>\n",
       "      <th>Gpu</th>\n",
       "      <th>Weight</th>\n",
       "      <th>Price</th>\n",
       "      <th>SSD</th>\n",
       "      <th>...</th>\n",
       "      <th>OpSys_No OS</th>\n",
       "      <th>OpSys_Windows 10</th>\n",
       "      <th>OpSys_Windows 10 S</th>\n",
       "      <th>OpSys_Windows 7</th>\n",
       "      <th>OpSys_macOS</th>\n",
       "      <th>TypeName_Gaming</th>\n",
       "      <th>TypeName_Netbook</th>\n",
       "      <th>TypeName_Notebook</th>\n",
       "      <th>TypeName_Ultrabook</th>\n",
       "      <th>TypeName_Workstation</th>\n",
       "    </tr>\n",
       "    <tr>\n",
       "      <th>Index</th>\n",
       "      <th></th>\n",
       "      <th></th>\n",
       "      <th></th>\n",
       "      <th></th>\n",
       "      <th></th>\n",
       "      <th></th>\n",
       "      <th></th>\n",
       "      <th></th>\n",
       "      <th></th>\n",
       "      <th></th>\n",
       "      <th></th>\n",
       "      <th></th>\n",
       "      <th></th>\n",
       "      <th></th>\n",
       "      <th></th>\n",
       "      <th></th>\n",
       "      <th></th>\n",
       "      <th></th>\n",
       "      <th></th>\n",
       "      <th></th>\n",
       "      <th></th>\n",
       "    </tr>\n",
       "  </thead>\n",
       "  <tbody>\n",
       "    <tr>\n",
       "      <th>0</th>\n",
       "      <td>Apple</td>\n",
       "      <td>13.3</td>\n",
       "      <td>4096000</td>\n",
       "      <td>Intel Core i5 2.3GHz</td>\n",
       "      <td>8</td>\n",
       "      <td>128</td>\n",
       "      <td>Intel Iris Plus Graphics 640</td>\n",
       "      <td>1.37</td>\n",
       "      <td>71378.6832</td>\n",
       "      <td>0</td>\n",
       "      <td>...</td>\n",
       "      <td>0</td>\n",
       "      <td>0</td>\n",
       "      <td>0</td>\n",
       "      <td>0</td>\n",
       "      <td>1</td>\n",
       "      <td>0</td>\n",
       "      <td>0</td>\n",
       "      <td>0</td>\n",
       "      <td>1</td>\n",
       "      <td>0</td>\n",
       "    </tr>\n",
       "    <tr>\n",
       "      <th>1</th>\n",
       "      <td>Apple</td>\n",
       "      <td>13.3</td>\n",
       "      <td>1296000</td>\n",
       "      <td>Intel Core i5 1.8GHz</td>\n",
       "      <td>8</td>\n",
       "      <td>128</td>\n",
       "      <td>Intel HD Graphics 6000</td>\n",
       "      <td>1.34</td>\n",
       "      <td>47895.5232</td>\n",
       "      <td>0</td>\n",
       "      <td>...</td>\n",
       "      <td>0</td>\n",
       "      <td>0</td>\n",
       "      <td>0</td>\n",
       "      <td>0</td>\n",
       "      <td>1</td>\n",
       "      <td>0</td>\n",
       "      <td>0</td>\n",
       "      <td>0</td>\n",
       "      <td>1</td>\n",
       "      <td>0</td>\n",
       "    </tr>\n",
       "    <tr>\n",
       "      <th>2</th>\n",
       "      <td>HP</td>\n",
       "      <td>15.6</td>\n",
       "      <td>2073600</td>\n",
       "      <td>Intel Core i5 7200U 2.5GHz</td>\n",
       "      <td>8</td>\n",
       "      <td>256</td>\n",
       "      <td>Intel HD Graphics 620</td>\n",
       "      <td>1.86</td>\n",
       "      <td>30636.0000</td>\n",
       "      <td>0</td>\n",
       "      <td>...</td>\n",
       "      <td>1</td>\n",
       "      <td>0</td>\n",
       "      <td>0</td>\n",
       "      <td>0</td>\n",
       "      <td>0</td>\n",
       "      <td>0</td>\n",
       "      <td>0</td>\n",
       "      <td>1</td>\n",
       "      <td>0</td>\n",
       "      <td>0</td>\n",
       "    </tr>\n",
       "    <tr>\n",
       "      <th>3</th>\n",
       "      <td>Apple</td>\n",
       "      <td>15.4</td>\n",
       "      <td>5184000</td>\n",
       "      <td>Intel Core i7 2.7GHz</td>\n",
       "      <td>16</td>\n",
       "      <td>512</td>\n",
       "      <td>AMD Radeon Pro 455</td>\n",
       "      <td>1.83</td>\n",
       "      <td>135195.3360</td>\n",
       "      <td>0</td>\n",
       "      <td>...</td>\n",
       "      <td>0</td>\n",
       "      <td>0</td>\n",
       "      <td>0</td>\n",
       "      <td>0</td>\n",
       "      <td>1</td>\n",
       "      <td>0</td>\n",
       "      <td>0</td>\n",
       "      <td>0</td>\n",
       "      <td>1</td>\n",
       "      <td>0</td>\n",
       "    </tr>\n",
       "    <tr>\n",
       "      <th>4</th>\n",
       "      <td>Apple</td>\n",
       "      <td>13.3</td>\n",
       "      <td>4096000</td>\n",
       "      <td>Intel Core i5 3.1GHz</td>\n",
       "      <td>8</td>\n",
       "      <td>256</td>\n",
       "      <td>Intel Iris Plus Graphics 650</td>\n",
       "      <td>1.37</td>\n",
       "      <td>96095.8080</td>\n",
       "      <td>0</td>\n",
       "      <td>...</td>\n",
       "      <td>0</td>\n",
       "      <td>0</td>\n",
       "      <td>0</td>\n",
       "      <td>0</td>\n",
       "      <td>1</td>\n",
       "      <td>0</td>\n",
       "      <td>0</td>\n",
       "      <td>0</td>\n",
       "      <td>1</td>\n",
       "      <td>0</td>\n",
       "    </tr>\n",
       "  </tbody>\n",
       "</table>\n",
       "<p>5 rows × 29 columns</p>\n",
       "</div>"
      ],
      "text/plain": [
       "      Company  Inches  ScreenResolution                         Cpu  Ram  \\\n",
       "Index                                                                      \n",
       "0       Apple    13.3           4096000        Intel Core i5 2.3GHz    8   \n",
       "1       Apple    13.3           1296000        Intel Core i5 1.8GHz    8   \n",
       "2          HP    15.6           2073600  Intel Core i5 7200U 2.5GHz    8   \n",
       "3       Apple    15.4           5184000        Intel Core i7 2.7GHz   16   \n",
       "4       Apple    13.3           4096000        Intel Core i5 3.1GHz    8   \n",
       "\n",
       "       Memory                           Gpu  Weight        Price  SSD  ...  \\\n",
       "Index                                                                  ...   \n",
       "0         128  Intel Iris Plus Graphics 640    1.37   71378.6832    0  ...   \n",
       "1         128        Intel HD Graphics 6000    1.34   47895.5232    0  ...   \n",
       "2         256         Intel HD Graphics 620    1.86   30636.0000    0  ...   \n",
       "3         512            AMD Radeon Pro 455    1.83  135195.3360    0  ...   \n",
       "4         256  Intel Iris Plus Graphics 650    1.37   96095.8080    0  ...   \n",
       "\n",
       "       OpSys_No OS  OpSys_Windows 10  OpSys_Windows 10 S  OpSys_Windows 7  \\\n",
       "Index                                                                       \n",
       "0                0                 0                   0                0   \n",
       "1                0                 0                   0                0   \n",
       "2                1                 0                   0                0   \n",
       "3                0                 0                   0                0   \n",
       "4                0                 0                   0                0   \n",
       "\n",
       "       OpSys_macOS  TypeName_Gaming  TypeName_Netbook  TypeName_Notebook  \\\n",
       "Index                                                                      \n",
       "0                1                0                 0                  0   \n",
       "1                1                0                 0                  0   \n",
       "2                0                0                 0                  1   \n",
       "3                1                0                 0                  0   \n",
       "4                1                0                 0                  0   \n",
       "\n",
       "       TypeName_Ultrabook  TypeName_Workstation  \n",
       "Index                                            \n",
       "0                       1                     0  \n",
       "1                       1                     0  \n",
       "2                       0                     0  \n",
       "3                       1                     0  \n",
       "4                       1                     0  \n",
       "\n",
       "[5 rows x 29 columns]"
      ]
     },
     "execution_count": 18,
     "metadata": {},
     "output_type": "execute_result"
    }
   ],
   "source": [
    "data= pd.get_dummies(data, columns= ['OpSys', 'TypeName'], drop_first= True, dtype= int)\n",
    "data.head()"
   ]
  },
  {
   "cell_type": "code",
   "execution_count": 19,
   "id": "174cdc39",
   "metadata": {
    "execution": {
     "iopub.execute_input": "2025-02-08T17:38:52.478793Z",
     "iopub.status.busy": "2025-02-08T17:38:52.478319Z",
     "iopub.status.idle": "2025-02-08T17:38:52.488269Z",
     "shell.execute_reply": "2025-02-08T17:38:52.487113Z"
    },
    "papermill": {
     "duration": 0.025147,
     "end_time": "2025-02-08T17:38:52.490511",
     "exception": false,
     "start_time": "2025-02-08T17:38:52.465364",
     "status": "completed"
    },
    "tags": []
   },
   "outputs": [],
   "source": [
    "X= data.drop(columns=['Price'], axis= 1)\n",
    "X= X.select_dtypes(exclude= ['object'])\n",
    "Y= data['Price']\n",
    "X_train, X_test, Y_train, Y_test= train_test_split(X, Y, test_size= 0.2, random_state= 2)"
   ]
  },
  {
   "cell_type": "code",
   "execution_count": 20,
   "id": "8064a17f",
   "metadata": {
    "execution": {
     "iopub.execute_input": "2025-02-08T17:38:52.515642Z",
     "iopub.status.busy": "2025-02-08T17:38:52.515229Z",
     "iopub.status.idle": "2025-02-08T17:38:52.521973Z",
     "shell.execute_reply": "2025-02-08T17:38:52.520302Z"
    },
    "papermill": {
     "duration": 0.021852,
     "end_time": "2025-02-08T17:38:52.523973",
     "exception": false,
     "start_time": "2025-02-08T17:38:52.502121",
     "status": "completed"
    },
    "tags": []
   },
   "outputs": [
    {
     "name": "stdout",
     "output_type": "stream",
     "text": [
      "Shape of X_train: (1042, 25)\n",
      "Shape of X_test: (261, 25)\n",
      "Shape of Y_train: (1042,)\n",
      "Shape of Y_test: (261,)\n"
     ]
    }
   ],
   "source": [
    "print(f\"Shape of X_train: {X_train.shape}\")\n",
    "print(f\"Shape of X_test: {X_test.shape}\")\n",
    "print(f\"Shape of Y_train: {Y_train.shape}\")\n",
    "print(f\"Shape of Y_test: {Y_test.shape}\")"
   ]
  },
  {
   "cell_type": "code",
   "execution_count": 21,
   "id": "e2355668",
   "metadata": {
    "execution": {
     "iopub.execute_input": "2025-02-08T17:38:52.550446Z",
     "iopub.status.busy": "2025-02-08T17:38:52.550036Z",
     "iopub.status.idle": "2025-02-08T17:38:52.576116Z",
     "shell.execute_reply": "2025-02-08T17:38:52.574922Z"
    },
    "papermill": {
     "duration": 0.042466,
     "end_time": "2025-02-08T17:38:52.578312",
     "exception": false,
     "start_time": "2025-02-08T17:38:52.535846",
     "status": "completed"
    },
    "tags": []
   },
   "outputs": [],
   "source": [
    "std_scaler= StandardScaler()\n",
    "\n",
    "std_scaler.fit(X_train)\n",
    "\n",
    "X_train_scaled= std_scaler.transform(X_train)\n",
    "X_test_scaled= std_scaler.transform(X_test)"
   ]
  },
  {
   "cell_type": "code",
   "execution_count": 22,
   "id": "81942734",
   "metadata": {
    "execution": {
     "iopub.execute_input": "2025-02-08T17:38:52.603314Z",
     "iopub.status.busy": "2025-02-08T17:38:52.602860Z",
     "iopub.status.idle": "2025-02-08T17:38:52.644682Z",
     "shell.execute_reply": "2025-02-08T17:38:52.643386Z"
    },
    "papermill": {
     "duration": 0.05678,
     "end_time": "2025-02-08T17:38:52.646625",
     "exception": false,
     "start_time": "2025-02-08T17:38:52.589845",
     "status": "completed"
    },
    "tags": []
   },
   "outputs": [
    {
     "data": {
      "text/html": [
       "<style>#sk-container-id-1 {color: black;background-color: white;}#sk-container-id-1 pre{padding: 0;}#sk-container-id-1 div.sk-toggleable {background-color: white;}#sk-container-id-1 label.sk-toggleable__label {cursor: pointer;display: block;width: 100%;margin-bottom: 0;padding: 0.3em;box-sizing: border-box;text-align: center;}#sk-container-id-1 label.sk-toggleable__label-arrow:before {content: \"▸\";float: left;margin-right: 0.25em;color: #696969;}#sk-container-id-1 label.sk-toggleable__label-arrow:hover:before {color: black;}#sk-container-id-1 div.sk-estimator:hover label.sk-toggleable__label-arrow:before {color: black;}#sk-container-id-1 div.sk-toggleable__content {max-height: 0;max-width: 0;overflow: hidden;text-align: left;background-color: #f0f8ff;}#sk-container-id-1 div.sk-toggleable__content pre {margin: 0.2em;color: black;border-radius: 0.25em;background-color: #f0f8ff;}#sk-container-id-1 input.sk-toggleable__control:checked~div.sk-toggleable__content {max-height: 200px;max-width: 100%;overflow: auto;}#sk-container-id-1 input.sk-toggleable__control:checked~label.sk-toggleable__label-arrow:before {content: \"▾\";}#sk-container-id-1 div.sk-estimator input.sk-toggleable__control:checked~label.sk-toggleable__label {background-color: #d4ebff;}#sk-container-id-1 div.sk-label input.sk-toggleable__control:checked~label.sk-toggleable__label {background-color: #d4ebff;}#sk-container-id-1 input.sk-hidden--visually {border: 0;clip: rect(1px 1px 1px 1px);clip: rect(1px, 1px, 1px, 1px);height: 1px;margin: -1px;overflow: hidden;padding: 0;position: absolute;width: 1px;}#sk-container-id-1 div.sk-estimator {font-family: monospace;background-color: #f0f8ff;border: 1px dotted black;border-radius: 0.25em;box-sizing: border-box;margin-bottom: 0.5em;}#sk-container-id-1 div.sk-estimator:hover {background-color: #d4ebff;}#sk-container-id-1 div.sk-parallel-item::after {content: \"\";width: 100%;border-bottom: 1px solid gray;flex-grow: 1;}#sk-container-id-1 div.sk-label:hover label.sk-toggleable__label {background-color: #d4ebff;}#sk-container-id-1 div.sk-serial::before {content: \"\";position: absolute;border-left: 1px solid gray;box-sizing: border-box;top: 0;bottom: 0;left: 50%;z-index: 0;}#sk-container-id-1 div.sk-serial {display: flex;flex-direction: column;align-items: center;background-color: white;padding-right: 0.2em;padding-left: 0.2em;position: relative;}#sk-container-id-1 div.sk-item {position: relative;z-index: 1;}#sk-container-id-1 div.sk-parallel {display: flex;align-items: stretch;justify-content: center;background-color: white;position: relative;}#sk-container-id-1 div.sk-item::before, #sk-container-id-1 div.sk-parallel-item::before {content: \"\";position: absolute;border-left: 1px solid gray;box-sizing: border-box;top: 0;bottom: 0;left: 50%;z-index: -1;}#sk-container-id-1 div.sk-parallel-item {display: flex;flex-direction: column;z-index: 1;position: relative;background-color: white;}#sk-container-id-1 div.sk-parallel-item:first-child::after {align-self: flex-end;width: 50%;}#sk-container-id-1 div.sk-parallel-item:last-child::after {align-self: flex-start;width: 50%;}#sk-container-id-1 div.sk-parallel-item:only-child::after {width: 0;}#sk-container-id-1 div.sk-dashed-wrapped {border: 1px dashed gray;margin: 0 0.4em 0.5em 0.4em;box-sizing: border-box;padding-bottom: 0.4em;background-color: white;}#sk-container-id-1 div.sk-label label {font-family: monospace;font-weight: bold;display: inline-block;line-height: 1.2em;}#sk-container-id-1 div.sk-label-container {text-align: center;}#sk-container-id-1 div.sk-container {/* jupyter's `normalize.less` sets `[hidden] { display: none; }` but bootstrap.min.css set `[hidden] { display: none !important; }` so we also need the `!important` here to be able to override the default hidden behavior on the sphinx rendered scikit-learn.org. See: https://github.com/scikit-learn/scikit-learn/issues/21755 */display: inline-block !important;position: relative;}#sk-container-id-1 div.sk-text-repr-fallback {display: none;}</style><div id=\"sk-container-id-1\" class=\"sk-top-container\"><div class=\"sk-text-repr-fallback\"><pre>LinearRegression()</pre><b>In a Jupyter environment, please rerun this cell to show the HTML representation or trust the notebook. <br />On GitHub, the HTML representation is unable to render, please try loading this page with nbviewer.org.</b></div><div class=\"sk-container\" hidden><div class=\"sk-item\"><div class=\"sk-estimator sk-toggleable\"><input class=\"sk-toggleable__control sk-hidden--visually\" id=\"sk-estimator-id-1\" type=\"checkbox\" checked><label for=\"sk-estimator-id-1\" class=\"sk-toggleable__label sk-toggleable__label-arrow\">LinearRegression</label><div class=\"sk-toggleable__content\"><pre>LinearRegression()</pre></div></div></div></div></div>"
      ],
      "text/plain": [
       "LinearRegression()"
      ]
     },
     "execution_count": 22,
     "metadata": {},
     "output_type": "execute_result"
    }
   ],
   "source": [
    "model= LinearRegression()\n",
    "model.fit(X_train_scaled, Y_train)"
   ]
  },
  {
   "cell_type": "code",
   "execution_count": 23,
   "id": "1eae7628",
   "metadata": {
    "execution": {
     "iopub.execute_input": "2025-02-08T17:38:52.672093Z",
     "iopub.status.busy": "2025-02-08T17:38:52.671650Z",
     "iopub.status.idle": "2025-02-08T17:38:52.677512Z",
     "shell.execute_reply": "2025-02-08T17:38:52.676283Z"
    },
    "papermill": {
     "duration": 0.020896,
     "end_time": "2025-02-08T17:38:52.679708",
     "exception": false,
     "start_time": "2025-02-08T17:38:52.658812",
     "status": "completed"
    },
    "tags": []
   },
   "outputs": [],
   "source": [
    "Y_pred= model.predict(X_test_scaled)"
   ]
  },
  {
   "cell_type": "code",
   "execution_count": 24,
   "id": "80ef2314",
   "metadata": {
    "execution": {
     "iopub.execute_input": "2025-02-08T17:38:52.704052Z",
     "iopub.status.busy": "2025-02-08T17:38:52.703591Z",
     "iopub.status.idle": "2025-02-08T17:38:52.712532Z",
     "shell.execute_reply": "2025-02-08T17:38:52.711138Z"
    },
    "papermill": {
     "duration": 0.0234,
     "end_time": "2025-02-08T17:38:52.714458",
     "exception": false,
     "start_time": "2025-02-08T17:38:52.691058",
     "status": "completed"
    },
    "tags": []
   },
   "outputs": [
    {
     "name": "stdout",
     "output_type": "stream",
     "text": [
      "RMSE: 17738.71413199786\n",
      "r2 score: 0.70285340727992\n",
      "MAE: 13262.461912893732\n"
     ]
    }
   ],
   "source": [
    "rmse= np.sqrt(mean_squared_error(Y_test, Y_pred))\n",
    "mae= mean_absolute_error(Y_test, Y_pred)\n",
    "r2= r2_score(Y_test, Y_pred)\n",
    "\n",
    "print(f'RMSE: {rmse}')\n",
    "print(f'r2 score: {r2}')\n",
    "print(f'MAE: {mae}')"
   ]
  }
 ],
 "metadata": {
  "kaggle": {
   "accelerator": "none",
   "dataSources": [
    {
     "datasetId": 6528574,
     "sourceId": 10551533,
     "sourceType": "datasetVersion"
    }
   ],
   "dockerImageVersionId": 30839,
   "isGpuEnabled": false,
   "isInternetEnabled": true,
   "language": "python",
   "sourceType": "notebook"
  },
  "kernelspec": {
   "display_name": "Python 3",
   "language": "python",
   "name": "python3"
  },
  "language_info": {
   "codemirror_mode": {
    "name": "ipython",
    "version": 3
   },
   "file_extension": ".py",
   "mimetype": "text/x-python",
   "name": "python",
   "nbconvert_exporter": "python",
   "pygments_lexer": "ipython3",
   "version": "3.10.12"
  },
  "papermill": {
   "default_parameters": {},
   "duration": 11.388056,
   "end_time": "2025-02-08T17:38:53.749043",
   "environment_variables": {},
   "exception": null,
   "input_path": "__notebook__.ipynb",
   "output_path": "__notebook__.ipynb",
   "parameters": {},
   "start_time": "2025-02-08T17:38:42.360987",
   "version": "2.6.0"
  }
 },
 "nbformat": 4,
 "nbformat_minor": 5
}
